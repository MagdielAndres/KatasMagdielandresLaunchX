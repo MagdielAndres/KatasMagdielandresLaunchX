{
 "cells": [
  {
   "cell_type": "markdown",
   "metadata": {},
   "source": [
    "# Ejercicio 1: Uso de Funciones en Python.\n",
    "### Trabajar con argumentos en funciones."
   ]
  },
  {
   "cell_type": "code",
   "execution_count": 12,
   "metadata": {},
   "outputs": [],
   "source": [
    "# Función para leer 3 tanques de combustible y muestre el promedio\n",
    "def tanque_combustible(tanque1, tanque2, tanque3):\n",
    "    ##return (tanque1 + tanque2 +tanque3)/3\n",
    "    promedio = (tanque1 + tanque2 +tanque3)/3\n",
    "    print(f\"\"\"Promedio total: {promedio} %\n",
    "Tanque 1: {tanque1} %\n",
    "Tanque 2: {tanque2} %\n",
    "Tanque 3: {tanque3} %\"\"\")"
   ]
  },
  {
   "cell_type": "code",
   "execution_count": 13,
   "metadata": {},
   "outputs": [
    {
     "name": "stdout",
     "output_type": "stream",
     "text": [
      "Promedio total: 6.0 %\n",
      "Tanque 1: 5 %\n",
      "Tanque 2: 6 %\n",
      "Tanque 3: 7 %\n"
     ]
    }
   ],
   "source": [
    "# Llamamos a la función que genera el reporte print(funcion(tanque1, tanque2, tanque3))\n",
    "tanque_combustible(5, 6, 7)"
   ]
  },
  {
   "cell_type": "code",
   "execution_count": 14,
   "metadata": {},
   "outputs": [
    {
     "data": {
      "text/plain": [
       "26.333333333333332"
      ]
     },
     "execution_count": 14,
     "metadata": {},
     "output_type": "execute_result"
    }
   ],
   "source": [
    "# Función promedio \n",
    "def promedio(valor):\n",
    "    suma = sum(valor)\n",
    "    res = suma/3\n",
    "    return res\n",
    "\n",
    "promedio([12, 53, 14])"
   ]
  },
  {
   "cell_type": "code",
   "execution_count": 15,
   "metadata": {},
   "outputs": [
    {
     "name": "stdout",
     "output_type": "stream",
     "text": [
      "Promedio total: 15.666666666666666 %\n",
      "Tanque 1: 23 %\n",
      "Tanque 2: 20 %\n",
      "Tanque 3: 4 %\n"
     ]
    }
   ],
   "source": [
    "# Actualiza la función\n",
    "def tanque_combustible(tanque1, tanque2, tanque3):\n",
    "    ##return (tanque1 + tanque2 +tanque3)/3\n",
    "    ##promedio = (tanque1 + tanque2 +tanque3)/3\n",
    "    print(f\"\"\"Promedio total: {promedio([tanque1, tanque2, tanque3])} %\n",
    "Tanque 1: {tanque1} %\n",
    "Tanque 2: {tanque2} %\n",
    "Tanque 3: {tanque3} %\"\"\")\n",
    "\n",
    "tanque_combustible(23, 20, 4)"
   ]
  },
  {
   "cell_type": "markdown",
   "metadata": {},
   "source": [
    "# Ejercicio 2: Trabajo con argumentos de palabra clave.\n",
    "### Ejercicio: Trbajar con argumentos de palabra clave."
   ]
  },
  {
   "cell_type": "code",
   "execution_count": 18,
   "metadata": {},
   "outputs": [
    {
     "name": "stdout",
     "output_type": "stream",
     "text": [
      "Destino: Moon\n",
      "Tiempo total de viaje: 63 minutos\n",
      "Combustible restante: 340000\n"
     ]
    }
   ],
   "source": [
    "# Función con un informe preciso de la misión. Considera hora de prelanzamiento, tiempo de vuelo, destino, tanque externo y tanque interno\n",
    "def informe_mision(hora_prelanzamiento, tiempo_vuelo, destino, tanque_externo, tanque_interno):\n",
    "    return f\"\"\"Destino: {destino}\n",
    "Tiempo total de viaje: {hora_prelanzamiento + tiempo_vuelo} minutos\n",
    "Combustible restante: {tanque_externo + tanque_interno} gallones\"\"\"\n",
    "\n",
    "print(informe_mision(12, 51, \"Moon\", 300000, 40000))    \n"
   ]
  },
  {
   "cell_type": "code",
   "execution_count": 25,
   "metadata": {},
   "outputs": [
    {
     "name": "stdout",
     "output_type": "stream",
     "text": [
      "Destino: Moon\n",
      "Timpo total de viaje: 56 minutos\n",
      "Combustible restante: 600333 gallones\n"
     ]
    }
   ],
   "source": [
    "# Escribe tu nueva función de reporte considerando lo anterior\n",
    "def informe_mision(destino, *timpo_vuelo, **tanque_combustibles):\n",
    "    return f\"\"\"Destino: {destino}\n",
    "Timpo total de viaje: {sum(timpo_vuelo)} minutos\n",
    "Combustible restante: {sum(tanque_combustibles.values())} gallones\"\"\"\n",
    "\n",
    "print(informe_mision(\"Moon\", 10, 12, 34, externo = 400000, interno = 200333))"
   ]
  },
  {
   "cell_type": "code",
   "execution_count": 39,
   "metadata": {},
   "outputs": [
    {
     "name": "stdout",
     "output_type": "stream",
     "text": [
      "Destino: Moon\n",
      "Timpo total de viaje: 56 minutos\n",
      "Combustible restante: 600333 gallones\n",
      "Tanque externo --> 400000 gallones\n",
      "Tanque interno --> 200333 gallones\n"
     ]
    }
   ],
   "source": [
    "# Escribe tu nueva función\n",
    "def informe_mision(destino, *timpo_vuelo, **tanque_combustibles):\n",
    "    reporte_principal = f\"\"\"Destino: {destino}\n",
    "Timpo total de viaje: {sum(timpo_vuelo)} minutos\n",
    "Combustible restante: {sum(tanque_combustibles.values())} gallones\"\"\"\n",
    "\n",
    "    for nombre_tanque, gallones in tanque_combustibles.items():\n",
    "        reporte_principal += f\"\"\"\\nTanque {nombre_tanque} --> {gallones} gallones\"\"\"\n",
    "    return reporte_principal\n",
    "\n",
    "print(informe_mision(\"Moon\", 10, 12, 34, externo = 400000, interno = 200333))"
   ]
  }
 ],
 "metadata": {
  "interpreter": {
   "hash": "3466a3a0a3ad59dc63ac8fd9026b4e585ea3ff7008c2013cf2d3d223e284a694"
  },
  "kernelspec": {
   "display_name": "Python 3.10.2 64-bit (system)",
   "language": "python",
   "name": "python3"
  },
  "language_info": {
   "codemirror_mode": {
    "name": "ipython",
    "version": 3
   },
   "file_extension": ".py",
   "mimetype": "text/x-python",
   "name": "python",
   "nbconvert_exporter": "python",
   "pygments_lexer": "ipython3",
   "version": "3.10.2"
  },
  "orig_nbformat": 4
 },
 "nbformat": 4,
 "nbformat_minor": 2
}
