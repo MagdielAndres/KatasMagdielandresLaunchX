{
 "cells": [
  {
   "cell_type": "markdown",
   "metadata": {},
   "source": [
    "## Ejercicio 1:\n",
    "Crear y usar listas de Python"
   ]
  },
  {
   "cell_type": "code",
   "execution_count": 3,
   "metadata": {},
   "outputs": [
    {
     "name": "stdout",
     "output_type": "stream",
     "text": [
      "El número de planestas: 8\n",
      "Planetas: ['Mercurio', 'Marte', 'Venus', 'Tierra', 'Jupiter', 'Saturno', 'Urano', 'Neptuno']\n"
     ]
    }
   ],
   "source": [
    "# Creamos la lista planets y la mostramos\n",
    "planets = ['Mercurio', 'Marte', 'Venus', 'Tierra', 'Jupiter', 'Saturno', 'Urano', 'Neptuno']\n",
    "## planets = len(planets)\n",
    "print('El número de planestas: ' + str(len(planets)))\n",
    "print('Planetas: ' + str(planets))"
   ]
  },
  {
   "cell_type": "code",
   "execution_count": 2,
   "metadata": {},
   "outputs": [
    {
     "name": "stdout",
     "output_type": "stream",
     "text": [
      "El último elemento planeta :Plutón\n"
     ]
    }
   ],
   "source": [
    "# Agregamos a plutón y mostramos el último elemento\n",
    "planets.append('Plutón')\n",
    "print('El último elemento planeta :'+ planets[-1])"
   ]
  },
  {
   "cell_type": "markdown",
   "metadata": {},
   "source": [
    "## Ejercicio 2:\n",
    "Trabajando con datos de una lista\n",
    "Usar slices para recuperar partes de una lista"
   ]
  },
  {
   "cell_type": "code",
   "execution_count": 4,
   "metadata": {},
   "outputs": [],
   "source": [
    "# Lista de planetas\n",
    "planets = ['Mercury', 'Venus', 'Earth', 'Mars', 'Jupiter', 'Saturn', 'Neptune']"
   ]
  },
  {
   "cell_type": "code",
   "execution_count": 5,
   "metadata": {},
   "outputs": [],
   "source": [
    "# Solicitamos el nombre de un planeta *Pista:  input()*\n",
    "nombrePlaneta = input(\"Escriba el nombre del planeta empezando la primera letra en mayúscula:\")"
   ]
  },
  {
   "cell_type": "code",
   "execution_count": 6,
   "metadata": {},
   "outputs": [
    {
     "name": "stdout",
     "output_type": "stream",
     "text": [
      "Nombre del planeta buscado: Venus\n",
      "posición en la lista : 1\n"
     ]
    }
   ],
   "source": [
    "# Busca el planeta en la lista\n",
    "BuscarPlaneta = planets.index(nombrePlaneta)\n",
    "print('Nombre del planeta buscado: ' + nombrePlaneta + '\\nposición en la lista : ' + str(BuscarPlaneta))\n"
   ]
  },
  {
   "cell_type": "code",
   "execution_count": 7,
   "metadata": {},
   "outputs": [
    {
     "name": "stdout",
     "output_type": "stream",
     "text": [
      "Planetas que esten más cerca el que busco : ['Mercury']\n"
     ]
    }
   ],
   "source": [
    "# Muestra los planetas más cercanos al sol\n",
    "sercadelPlaneta = planets[:BuscarPlaneta]\n",
    "print('Planetas que esten más cerca el que busco : ' + str(sercadelPlaneta))"
   ]
  },
  {
   "cell_type": "code",
   "execution_count": 8,
   "metadata": {},
   "outputs": [
    {
     "name": "stdout",
     "output_type": "stream",
     "text": [
      "Planetas que están más lejos : ['Earth', 'Mars', 'Jupiter', 'Saturn', 'Neptune']\n"
     ]
    }
   ],
   "source": [
    "# Muestra los planetas más lejanos al sol\n",
    "lejosPlaneta = planets[BuscarPlaneta + 1:]\n",
    "print('Planetas que están más lejos : ' + str(lejosPlaneta))"
   ]
  }
 ],
 "metadata": {
  "interpreter": {
   "hash": "3466a3a0a3ad59dc63ac8fd9026b4e585ea3ff7008c2013cf2d3d223e284a694"
  },
  "kernelspec": {
   "display_name": "Python 3.10.2 64-bit (system)",
   "language": "python",
   "name": "python3"
  },
  "language_info": {
   "codemirror_mode": {
    "name": "ipython",
    "version": 3
   },
   "file_extension": ".py",
   "mimetype": "text/x-python",
   "name": "python",
   "nbconvert_exporter": "python",
   "pygments_lexer": "ipython3",
   "version": "3.10.2"
  },
  "orig_nbformat": 4
 },
 "nbformat": 4,
 "nbformat_minor": 2
}
