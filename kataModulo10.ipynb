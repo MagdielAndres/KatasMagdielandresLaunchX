{
 "cells": [
  {
   "cell_type": "code",
   "execution_count": null,
   "metadata": {},
   "outputs": [],
   "source": [
    "open(\"/path/to/mars.jpg\")"
   ]
  },
  {
   "cell_type": "code",
   "execution_count": 3,
   "metadata": {},
   "outputs": [],
   "source": [
    "def main():\n",
    "    try:\n",
    "        configuration = open('config.txt')\n",
    "    except FileNotFoundError:\n",
    "        print(\"Couldn't find the config.txt file!\")\n",
    "    except IsADirectoryError:\n",
    "        print(\"Found config.txt but it is a directory, couldn't read it\")\n",
    "    except (BlockingIOError, TimeoutError):\n",
    "        print(\"Filesystem under heavy load, can't complete reading configuration file\")\n",
    "\n",
    "if __name__ =='__main__':\n",
    "    main()"
   ]
  },
  {
   "cell_type": "code",
   "execution_count": 4,
   "metadata": {},
   "outputs": [],
   "source": [
    "def water_left(astronauts, water_left, days_left):\n",
    "    daily_usage = astronauts * 11\n",
    "    total_usage = daily_usage * days_left\n",
    "    total_water_left = water_left - total_usage\n",
    "    return f\"Total water left after {days_left} days is: {total_water_left} liters\"\n",
    "    "
   ]
  },
  {
   "cell_type": "code",
   "execution_count": 5,
   "metadata": {},
   "outputs": [
    {
     "data": {
      "text/plain": [
       "'Total water left after 2 days is: -10 liters'"
      ]
     },
     "execution_count": 5,
     "metadata": {},
     "output_type": "execute_result"
    }
   ],
   "source": [
    "water_left(5, 100, 2)"
   ]
  },
  {
   "cell_type": "code",
   "execution_count": 6,
   "metadata": {},
   "outputs": [],
   "source": [
    "def water_left(astronauts, water_left, days_left):\n",
    "    daily_usage = astronauts * 11\n",
    "    total_usage = daily_usage * days_left\n",
    "    total_water_left = water_left - total_usage\n",
    "    if total_water_left < 0:\n",
    "        raise RuntimeError(f\"There is not enough water for {astronauts} astronauts after {days_left} days!\")\n",
    "    return f\"Total water left after {days_left} days is: {total_water_left} liters\""
   ]
  },
  {
   "cell_type": "code",
   "execution_count": 7,
   "metadata": {},
   "outputs": [
    {
     "ename": "RuntimeError",
     "evalue": "There is not enough water for 5 astronauts after 2 days!",
     "output_type": "error",
     "traceback": [
      "\u001b[1;31m---------------------------------------------------------------------------\u001b[0m",
      "\u001b[1;31mRuntimeError\u001b[0m                              Traceback (most recent call last)",
      "\u001b[1;32mc:\\Users\\Magdiel\\Documents\\Inovacción-Launch X-Formación de Developers\\1.-OnBoarding\\Katas-Módulos\\Módulo 10\\kataModulo10.ipynb Cell 6'\u001b[0m in \u001b[0;36m<module>\u001b[1;34m\u001b[0m\n\u001b[1;32m----> <a href='vscode-notebook-cell:/c%3A/Users/Magdiel/Documents/Inovacci%C3%B3n-Launch%20X-Formaci%C3%B3n%20de%20Developers/1.-OnBoarding/Katas-M%C3%B3dulos/M%C3%B3dulo%2010/kataModulo10.ipynb#ch0000005?line=0'>1</a>\u001b[0m water_left(\u001b[39m5\u001b[39;49m, \u001b[39m100\u001b[39;49m, \u001b[39m2\u001b[39;49m)\n",
      "\u001b[1;32mc:\\Users\\Magdiel\\Documents\\Inovacción-Launch X-Formación de Developers\\1.-OnBoarding\\Katas-Módulos\\Módulo 10\\kataModulo10.ipynb Cell 5'\u001b[0m in \u001b[0;36mwater_left\u001b[1;34m(astronauts, water_left, days_left)\u001b[0m\n\u001b[0;32m      <a href='vscode-notebook-cell:/c%3A/Users/Magdiel/Documents/Inovacci%C3%B3n-Launch%20X-Formaci%C3%B3n%20de%20Developers/1.-OnBoarding/Katas-M%C3%B3dulos/M%C3%B3dulo%2010/kataModulo10.ipynb#ch0000004?line=3'>4</a>\u001b[0m total_water_left \u001b[39m=\u001b[39m water_left \u001b[39m-\u001b[39m total_usage\n\u001b[0;32m      <a href='vscode-notebook-cell:/c%3A/Users/Magdiel/Documents/Inovacci%C3%B3n-Launch%20X-Formaci%C3%B3n%20de%20Developers/1.-OnBoarding/Katas-M%C3%B3dulos/M%C3%B3dulo%2010/kataModulo10.ipynb#ch0000004?line=4'>5</a>\u001b[0m \u001b[39mif\u001b[39;00m total_water_left \u001b[39m<\u001b[39m \u001b[39m0\u001b[39m:\n\u001b[1;32m----> <a href='vscode-notebook-cell:/c%3A/Users/Magdiel/Documents/Inovacci%C3%B3n-Launch%20X-Formaci%C3%B3n%20de%20Developers/1.-OnBoarding/Katas-M%C3%B3dulos/M%C3%B3dulo%2010/kataModulo10.ipynb#ch0000004?line=5'>6</a>\u001b[0m     \u001b[39mraise\u001b[39;00m \u001b[39mRuntimeError\u001b[39;00m(\u001b[39mf\u001b[39m\u001b[39m\"\u001b[39m\u001b[39mThere is not enough water for \u001b[39m\u001b[39m{\u001b[39;00mastronauts\u001b[39m}\u001b[39;00m\u001b[39m astronauts after \u001b[39m\u001b[39m{\u001b[39;00mdays_left\u001b[39m}\u001b[39;00m\u001b[39m days!\u001b[39m\u001b[39m\"\u001b[39m)\n\u001b[0;32m      <a href='vscode-notebook-cell:/c%3A/Users/Magdiel/Documents/Inovacci%C3%B3n-Launch%20X-Formaci%C3%B3n%20de%20Developers/1.-OnBoarding/Katas-M%C3%B3dulos/M%C3%B3dulo%2010/kataModulo10.ipynb#ch0000004?line=6'>7</a>\u001b[0m \u001b[39mreturn\u001b[39;00m \u001b[39mf\u001b[39m\u001b[39m\"\u001b[39m\u001b[39mTotal water left after \u001b[39m\u001b[39m{\u001b[39;00mdays_left\u001b[39m}\u001b[39;00m\u001b[39m days is: \u001b[39m\u001b[39m{\u001b[39;00mtotal_water_left\u001b[39m}\u001b[39;00m\u001b[39m liters\u001b[39m\u001b[39m\"\u001b[39m\n",
      "\u001b[1;31mRuntimeError\u001b[0m: There is not enough water for 5 astronauts after 2 days!"
     ]
    }
   ],
   "source": [
    "water_left(5, 100, 2)"
   ]
  },
  {
   "cell_type": "code",
   "execution_count": 9,
   "metadata": {},
   "outputs": [],
   "source": [
    "def water_left(astronauts, water_left, days_left):\n",
    "    for argument in [astronauts, water_left, days_left]:\n",
    "        try:\n",
    "            # If argument is an int, the following operation will work\n",
    "            argument / 10\n",
    "        except TypeError:\n",
    "            # TypError will be raised only if it isn't the right type \n",
    "            # Raise the same exception but with a better error message\n",
    "            raise TypeError(f\"All arguments must be of type int, but received: '{argument}'\")\n",
    "    daily_usage = astronauts * 11\n",
    "    total_usage = daily_usage * days_left\n",
    "    total_water_left = water_left - total_usage\n",
    "    if total_water_left < 0:\n",
    "        raise RuntimeError(f\"There is not enough water for {astronauts} astronauts after {days_left} days!\")\n",
    "    return f\"Total water left after {days_left} days is: {total_water_left} liters\""
   ]
  },
  {
   "cell_type": "code",
   "execution_count": 10,
   "metadata": {},
   "outputs": [
    {
     "ename": "TypeError",
     "evalue": "All arguments must be of type int, but received: '3'",
     "output_type": "error",
     "traceback": [
      "\u001b[1;31m---------------------------------------------------------------------------\u001b[0m",
      "\u001b[1;31mTypeError\u001b[0m                                 Traceback (most recent call last)",
      "\u001b[1;32mc:\\Users\\Magdiel\\Documents\\Inovacción-Launch X-Formación de Developers\\1.-OnBoarding\\Katas-Módulos\\Módulo 10\\kataModulo10.ipynb Cell 7'\u001b[0m in \u001b[0;36mwater_left\u001b[1;34m(astronauts, water_left, days_left)\u001b[0m\n\u001b[0;32m      <a href='vscode-notebook-cell:/c%3A/Users/Magdiel/Documents/Inovacci%C3%B3n-Launch%20X-Formaci%C3%B3n%20de%20Developers/1.-OnBoarding/Katas-M%C3%B3dulos/M%C3%B3dulo%2010/kataModulo10.ipynb#ch0000006?line=2'>3</a>\u001b[0m \u001b[39mtry\u001b[39;00m:\n\u001b[0;32m      <a href='vscode-notebook-cell:/c%3A/Users/Magdiel/Documents/Inovacci%C3%B3n-Launch%20X-Formaci%C3%B3n%20de%20Developers/1.-OnBoarding/Katas-M%C3%B3dulos/M%C3%B3dulo%2010/kataModulo10.ipynb#ch0000006?line=3'>4</a>\u001b[0m     \u001b[39m# If argument is an int, the following operation will work\u001b[39;00m\n\u001b[1;32m----> <a href='vscode-notebook-cell:/c%3A/Users/Magdiel/Documents/Inovacci%C3%B3n-Launch%20X-Formaci%C3%B3n%20de%20Developers/1.-OnBoarding/Katas-M%C3%B3dulos/M%C3%B3dulo%2010/kataModulo10.ipynb#ch0000006?line=4'>5</a>\u001b[0m     argument \u001b[39m/\u001b[39;49m \u001b[39m10\u001b[39;49m\n\u001b[0;32m      <a href='vscode-notebook-cell:/c%3A/Users/Magdiel/Documents/Inovacci%C3%B3n-Launch%20X-Formaci%C3%B3n%20de%20Developers/1.-OnBoarding/Katas-M%C3%B3dulos/M%C3%B3dulo%2010/kataModulo10.ipynb#ch0000006?line=5'>6</a>\u001b[0m \u001b[39mexcept\u001b[39;00m \u001b[39mTypeError\u001b[39;00m:\n\u001b[0;32m      <a href='vscode-notebook-cell:/c%3A/Users/Magdiel/Documents/Inovacci%C3%B3n-Launch%20X-Formaci%C3%B3n%20de%20Developers/1.-OnBoarding/Katas-M%C3%B3dulos/M%C3%B3dulo%2010/kataModulo10.ipynb#ch0000006?line=6'>7</a>\u001b[0m     \u001b[39m# TypError will be raised only if it isn't the right type \u001b[39;00m\n\u001b[0;32m      <a href='vscode-notebook-cell:/c%3A/Users/Magdiel/Documents/Inovacci%C3%B3n-Launch%20X-Formaci%C3%B3n%20de%20Developers/1.-OnBoarding/Katas-M%C3%B3dulos/M%C3%B3dulo%2010/kataModulo10.ipynb#ch0000006?line=7'>8</a>\u001b[0m     \u001b[39m# Raise the same exception but with a better error message\u001b[39;00m\n",
      "\u001b[1;31mTypeError\u001b[0m: unsupported operand type(s) for /: 'str' and 'int'",
      "\nDuring handling of the above exception, another exception occurred:\n",
      "\u001b[1;31mTypeError\u001b[0m                                 Traceback (most recent call last)",
      "\u001b[1;32mc:\\Users\\Magdiel\\Documents\\Inovacción-Launch X-Formación de Developers\\1.-OnBoarding\\Katas-Módulos\\Módulo 10\\kataModulo10.ipynb Cell 8'\u001b[0m in \u001b[0;36m<module>\u001b[1;34m\u001b[0m\n\u001b[1;32m----> <a href='vscode-notebook-cell:/c%3A/Users/Magdiel/Documents/Inovacci%C3%B3n-Launch%20X-Formaci%C3%B3n%20de%20Developers/1.-OnBoarding/Katas-M%C3%B3dulos/M%C3%B3dulo%2010/kataModulo10.ipynb#ch0000007?line=0'>1</a>\u001b[0m water_left(\u001b[39m\"\u001b[39;49m\u001b[39m3\u001b[39;49m\u001b[39m\"\u001b[39;49m, \u001b[39m\"\u001b[39;49m\u001b[39m200\u001b[39;49m\u001b[39m\"\u001b[39;49m, \u001b[39mNone\u001b[39;49;00m)\n",
      "\u001b[1;32mc:\\Users\\Magdiel\\Documents\\Inovacción-Launch X-Formación de Developers\\1.-OnBoarding\\Katas-Módulos\\Módulo 10\\kataModulo10.ipynb Cell 7'\u001b[0m in \u001b[0;36mwater_left\u001b[1;34m(astronauts, water_left, days_left)\u001b[0m\n\u001b[0;32m      <a href='vscode-notebook-cell:/c%3A/Users/Magdiel/Documents/Inovacci%C3%B3n-Launch%20X-Formaci%C3%B3n%20de%20Developers/1.-OnBoarding/Katas-M%C3%B3dulos/M%C3%B3dulo%2010/kataModulo10.ipynb#ch0000006?line=4'>5</a>\u001b[0m         argument \u001b[39m/\u001b[39m \u001b[39m10\u001b[39m\n\u001b[0;32m      <a href='vscode-notebook-cell:/c%3A/Users/Magdiel/Documents/Inovacci%C3%B3n-Launch%20X-Formaci%C3%B3n%20de%20Developers/1.-OnBoarding/Katas-M%C3%B3dulos/M%C3%B3dulo%2010/kataModulo10.ipynb#ch0000006?line=5'>6</a>\u001b[0m     \u001b[39mexcept\u001b[39;00m \u001b[39mTypeError\u001b[39;00m:\n\u001b[0;32m      <a href='vscode-notebook-cell:/c%3A/Users/Magdiel/Documents/Inovacci%C3%B3n-Launch%20X-Formaci%C3%B3n%20de%20Developers/1.-OnBoarding/Katas-M%C3%B3dulos/M%C3%B3dulo%2010/kataModulo10.ipynb#ch0000006?line=6'>7</a>\u001b[0m         \u001b[39m# TypError will be raised only if it isn't the right type \u001b[39;00m\n\u001b[0;32m      <a href='vscode-notebook-cell:/c%3A/Users/Magdiel/Documents/Inovacci%C3%B3n-Launch%20X-Formaci%C3%B3n%20de%20Developers/1.-OnBoarding/Katas-M%C3%B3dulos/M%C3%B3dulo%2010/kataModulo10.ipynb#ch0000006?line=7'>8</a>\u001b[0m         \u001b[39m# Raise the same exception but with a better error message\u001b[39;00m\n\u001b[1;32m----> <a href='vscode-notebook-cell:/c%3A/Users/Magdiel/Documents/Inovacci%C3%B3n-Launch%20X-Formaci%C3%B3n%20de%20Developers/1.-OnBoarding/Katas-M%C3%B3dulos/M%C3%B3dulo%2010/kataModulo10.ipynb#ch0000006?line=8'>9</a>\u001b[0m         \u001b[39mraise\u001b[39;00m \u001b[39mTypeError\u001b[39;00m(\u001b[39mf\u001b[39m\u001b[39m\"\u001b[39m\u001b[39mAll arguments must be of type int, but received: \u001b[39m\u001b[39m'\u001b[39m\u001b[39m{\u001b[39;00margument\u001b[39m}\u001b[39;00m\u001b[39m'\u001b[39m\u001b[39m\"\u001b[39m)\n\u001b[0;32m     <a href='vscode-notebook-cell:/c%3A/Users/Magdiel/Documents/Inovacci%C3%B3n-Launch%20X-Formaci%C3%B3n%20de%20Developers/1.-OnBoarding/Katas-M%C3%B3dulos/M%C3%B3dulo%2010/kataModulo10.ipynb#ch0000006?line=9'>10</a>\u001b[0m daily_usage \u001b[39m=\u001b[39m astronauts \u001b[39m*\u001b[39m \u001b[39m11\u001b[39m\n\u001b[0;32m     <a href='vscode-notebook-cell:/c%3A/Users/Magdiel/Documents/Inovacci%C3%B3n-Launch%20X-Formaci%C3%B3n%20de%20Developers/1.-OnBoarding/Katas-M%C3%B3dulos/M%C3%B3dulo%2010/kataModulo10.ipynb#ch0000006?line=10'>11</a>\u001b[0m total_usage \u001b[39m=\u001b[39m daily_usage \u001b[39m*\u001b[39m days_left\n",
      "\u001b[1;31mTypeError\u001b[0m: All arguments must be of type int, but received: '3'"
     ]
    }
   ],
   "source": [
    "water_left(\"3\", \"200\", None)"
   ]
  }
 ],
 "metadata": {
  "interpreter": {
   "hash": "3466a3a0a3ad59dc63ac8fd9026b4e585ea3ff7008c2013cf2d3d223e284a694"
  },
  "kernelspec": {
   "display_name": "Python 3.10.2 64-bit (system)",
   "language": "python",
   "name": "python3"
  },
  "language_info": {
   "codemirror_mode": {
    "name": "ipython",
    "version": 3
   },
   "file_extension": ".py",
   "mimetype": "text/x-python",
   "name": "python",
   "nbconvert_exporter": "python",
   "pygments_lexer": "ipython3",
   "version": "3.10.2"
  },
  "orig_nbformat": 4
 },
 "nbformat": 4,
 "nbformat_minor": 2
}
